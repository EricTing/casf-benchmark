{
 "cells": [
  {
   "cell_type": "code",
   "execution_count": 1,
   "metadata": {
    "collapsed": false
   },
   "outputs": [],
   "source": [
    "%matplotlib inline\n",
    "%load_ext autoreload\n",
    "%autoreload 2\n",
    "\n",
    "import matplotlib\n",
    "import matplotlib.pyplot as plt\n",
    "import pandas as pd\n",
    "import numpy as np\n",
    "import seaborn as sns\n",
    "\n",
    "\n",
    "sns.set_style(\"white\", {'ytick.major.size': 10.0})\n",
    "sns.set_context(\"poster\", font_scale=1.1)\n",
    "matplotlib.rcParams.update({'font.size': 18, 'font.family': 'serif'})"
   ]
  },
  {
   "cell_type": "code",
   "execution_count": 2,
   "metadata": {
    "collapsed": false
   },
   "outputs": [
    {
     "name": "stdout",
     "output_type": "stream",
     "text": [
      "benchmark.csv                geaux_modeled_prt_rmsd.json\r\n",
      "benchmark.zip                geaux_native_rmsd.json\r\n",
      "casf.txt                     geaux_pred_rmsd.json\r\n",
      "casf_names.txt               rmsd_box.tiff\r\n",
      "geaux_modeled_prt_rmsd.csv   vina_rmsd.json\r\n"
     ]
    }
   ],
   "source": [
    "ls ../dat/"
   ]
  },
  {
   "cell_type": "code",
   "execution_count": 3,
   "metadata": {
    "collapsed": true
   },
   "outputs": [],
   "source": [
    "import json"
   ]
  },
  {
   "cell_type": "markdown",
   "metadata": {},
   "source": [
    "# Using Experimental Proteins Structures"
   ]
  },
  {
   "cell_type": "code",
   "execution_count": 4,
   "metadata": {
    "collapsed": true
   },
   "outputs": [],
   "source": [
    "vina_dat = json.loads(open(\"../dat/vina_rmsd.json\").read())"
   ]
  },
  {
   "cell_type": "code",
   "execution_count": 5,
   "metadata": {
    "collapsed": false
   },
   "outputs": [],
   "source": [
    "vina_df = pd.DataFrame(vina_dat).T"
   ]
  },
  {
   "cell_type": "code",
   "execution_count": 6,
   "metadata": {
    "collapsed": false
   },
   "outputs": [
    {
     "data": {
      "text/html": [
       "<div>\n",
       "<table border=\"1\" class=\"dataframe\">\n",
       "  <thead>\n",
       "    <tr style=\"text-align: right;\">\n",
       "      <th></th>\n",
       "      <th>native_pocket_vina_rmsd</th>\n",
       "      <th>predicted_pocket_vina_rmsd</th>\n",
       "    </tr>\n",
       "  </thead>\n",
       "  <tbody>\n",
       "    <tr>\n",
       "      <th>10gsA00</th>\n",
       "      <td>7.493246</td>\n",
       "      <td>7.515153</td>\n",
       "    </tr>\n",
       "    <tr>\n",
       "      <th>1a30A00</th>\n",
       "      <td>4.340904</td>\n",
       "      <td>4.556522</td>\n",
       "    </tr>\n",
       "    <tr>\n",
       "      <th>1bcuH00</th>\n",
       "      <td>2.636271</td>\n",
       "      <td>2.653116</td>\n",
       "    </tr>\n",
       "    <tr>\n",
       "      <th>1e66A01</th>\n",
       "      <td>0.925487</td>\n",
       "      <td>5.721366</td>\n",
       "    </tr>\n",
       "    <tr>\n",
       "      <th>1f8bA00</th>\n",
       "      <td>1.277627</td>\n",
       "      <td>4.744234</td>\n",
       "    </tr>\n",
       "  </tbody>\n",
       "</table>\n",
       "</div>"
      ],
      "text/plain": [
       "         native_pocket_vina_rmsd  predicted_pocket_vina_rmsd\n",
       "10gsA00                 7.493246                    7.515153\n",
       "1a30A00                 4.340904                    4.556522\n",
       "1bcuH00                 2.636271                    2.653116\n",
       "1e66A01                 0.925487                    5.721366\n",
       "1f8bA00                 1.277627                    4.744234"
      ]
     },
     "execution_count": 6,
     "metadata": {},
     "output_type": "execute_result"
    }
   ],
   "source": [
    "vina_df.head()"
   ]
  },
  {
   "cell_type": "code",
   "execution_count": 7,
   "metadata": {
    "collapsed": true
   },
   "outputs": [],
   "source": [
    "native_pocket_vina_rmsd = pd.DataFrame({\"rmsd\": vina_df.native_pocket_vina_rmsd,\n",
    "                                       \"Program\": \"AutoDock Vina\",\n",
    "                                       \"Pocket\": \"Experimental Pocket\"})\n",
    "predicted_pocket_vina_rmsd = pd.DataFrame({\"rmsd\": vina_df.predicted_pocket_vina_rmsd,\n",
    "                                          \"Program\": \"AutoDock Vina\",\n",
    "                                          \"Pocket\": \"Predicted Pocket\"})"
   ]
  },
  {
   "cell_type": "code",
   "execution_count": 8,
   "metadata": {
    "collapsed": false
   },
   "outputs": [
    {
     "data": {
      "text/html": [
       "<div>\n",
       "<table border=\"1\" class=\"dataframe\">\n",
       "  <thead>\n",
       "    <tr style=\"text-align: right;\">\n",
       "      <th></th>\n",
       "      <th>Pocket</th>\n",
       "      <th>Program</th>\n",
       "      <th>rmsd</th>\n",
       "    </tr>\n",
       "  </thead>\n",
       "  <tbody>\n",
       "    <tr>\n",
       "      <th>10gsA00</th>\n",
       "      <td>Experimental Pocket</td>\n",
       "      <td>AutoDock Vina</td>\n",
       "      <td>7.493246</td>\n",
       "    </tr>\n",
       "    <tr>\n",
       "      <th>1a30A00</th>\n",
       "      <td>Experimental Pocket</td>\n",
       "      <td>AutoDock Vina</td>\n",
       "      <td>4.340904</td>\n",
       "    </tr>\n",
       "    <tr>\n",
       "      <th>1bcuH00</th>\n",
       "      <td>Experimental Pocket</td>\n",
       "      <td>AutoDock Vina</td>\n",
       "      <td>2.636271</td>\n",
       "    </tr>\n",
       "    <tr>\n",
       "      <th>1e66A01</th>\n",
       "      <td>Experimental Pocket</td>\n",
       "      <td>AutoDock Vina</td>\n",
       "      <td>0.925487</td>\n",
       "    </tr>\n",
       "    <tr>\n",
       "      <th>1f8bA00</th>\n",
       "      <td>Experimental Pocket</td>\n",
       "      <td>AutoDock Vina</td>\n",
       "      <td>1.277627</td>\n",
       "    </tr>\n",
       "  </tbody>\n",
       "</table>\n",
       "</div>"
      ],
      "text/plain": [
       "                      Pocket        Program      rmsd\n",
       "10gsA00  Experimental Pocket  AutoDock Vina  7.493246\n",
       "1a30A00  Experimental Pocket  AutoDock Vina  4.340904\n",
       "1bcuH00  Experimental Pocket  AutoDock Vina  2.636271\n",
       "1e66A01  Experimental Pocket  AutoDock Vina  0.925487\n",
       "1f8bA00  Experimental Pocket  AutoDock Vina  1.277627"
      ]
     },
     "execution_count": 8,
     "metadata": {},
     "output_type": "execute_result"
    }
   ],
   "source": [
    "native_pocket_vina_rmsd.head()"
   ]
  },
  {
   "cell_type": "code",
   "execution_count": 9,
   "metadata": {
    "collapsed": false
   },
   "outputs": [
    {
     "data": {
      "text/html": [
       "<div>\n",
       "<table border=\"1\" class=\"dataframe\">\n",
       "  <thead>\n",
       "    <tr style=\"text-align: right;\">\n",
       "      <th></th>\n",
       "      <th>Pocket</th>\n",
       "      <th>Program</th>\n",
       "      <th>rmsd</th>\n",
       "    </tr>\n",
       "  </thead>\n",
       "  <tbody>\n",
       "    <tr>\n",
       "      <th>10gsA00</th>\n",
       "      <td>Predicted Pocket</td>\n",
       "      <td>AutoDock Vina</td>\n",
       "      <td>7.515153</td>\n",
       "    </tr>\n",
       "    <tr>\n",
       "      <th>1a30A00</th>\n",
       "      <td>Predicted Pocket</td>\n",
       "      <td>AutoDock Vina</td>\n",
       "      <td>4.556522</td>\n",
       "    </tr>\n",
       "    <tr>\n",
       "      <th>1bcuH00</th>\n",
       "      <td>Predicted Pocket</td>\n",
       "      <td>AutoDock Vina</td>\n",
       "      <td>2.653116</td>\n",
       "    </tr>\n",
       "    <tr>\n",
       "      <th>1e66A01</th>\n",
       "      <td>Predicted Pocket</td>\n",
       "      <td>AutoDock Vina</td>\n",
       "      <td>5.721366</td>\n",
       "    </tr>\n",
       "    <tr>\n",
       "      <th>1f8bA00</th>\n",
       "      <td>Predicted Pocket</td>\n",
       "      <td>AutoDock Vina</td>\n",
       "      <td>4.744234</td>\n",
       "    </tr>\n",
       "  </tbody>\n",
       "</table>\n",
       "</div>"
      ],
      "text/plain": [
       "                   Pocket        Program      rmsd\n",
       "10gsA00  Predicted Pocket  AutoDock Vina  7.515153\n",
       "1a30A00  Predicted Pocket  AutoDock Vina  4.556522\n",
       "1bcuH00  Predicted Pocket  AutoDock Vina  2.653116\n",
       "1e66A01  Predicted Pocket  AutoDock Vina  5.721366\n",
       "1f8bA00  Predicted Pocket  AutoDock Vina  4.744234"
      ]
     },
     "execution_count": 9,
     "metadata": {},
     "output_type": "execute_result"
    }
   ],
   "source": [
    "predicted_pocket_vina_rmsd.head()"
   ]
  },
  {
   "cell_type": "code",
   "execution_count": 10,
   "metadata": {
    "collapsed": true
   },
   "outputs": [],
   "source": [
    "geaux_native_dat = json.loads(open(\"../dat/geaux_native_rmsd.json\").read())"
   ]
  },
  {
   "cell_type": "code",
   "execution_count": 11,
   "metadata": {
    "collapsed": false
   },
   "outputs": [],
   "source": [
    "geaux_native_series = pd.Series(geaux_native_dat)"
   ]
  },
  {
   "cell_type": "code",
   "execution_count": 12,
   "metadata": {
    "collapsed": true
   },
   "outputs": [],
   "source": [
    "geaux_pred_dat = json.loads(open(\"../dat/geaux_pred_rmsd.json\").read())\n",
    "geaux_pred_series = pd.Series(geaux_pred_dat)"
   ]
  },
  {
   "cell_type": "code",
   "execution_count": 13,
   "metadata": {
    "collapsed": true
   },
   "outputs": [],
   "source": [
    "geaux_df = pd.DataFrame()"
   ]
  },
  {
   "cell_type": "code",
   "execution_count": 14,
   "metadata": {
    "collapsed": true
   },
   "outputs": [],
   "source": [
    "geaux_df['native'] = geaux_native_series"
   ]
  },
  {
   "cell_type": "code",
   "execution_count": 15,
   "metadata": {
    "collapsed": true
   },
   "outputs": [],
   "source": [
    "geaux_df['pred'] = geaux_pred_series"
   ]
  },
  {
   "cell_type": "code",
   "execution_count": 16,
   "metadata": {
    "collapsed": false
   },
   "outputs": [
    {
     "data": {
      "text/html": [
       "<div>\n",
       "<table border=\"1\" class=\"dataframe\">\n",
       "  <thead>\n",
       "    <tr style=\"text-align: right;\">\n",
       "      <th></th>\n",
       "      <th>native</th>\n",
       "      <th>pred</th>\n",
       "    </tr>\n",
       "  </thead>\n",
       "  <tbody>\n",
       "    <tr>\n",
       "      <th>10gsA00</th>\n",
       "      <td>0.415111</td>\n",
       "      <td>3.963324</td>\n",
       "    </tr>\n",
       "    <tr>\n",
       "      <th>1a30A00</th>\n",
       "      <td>5.448684</td>\n",
       "      <td>7.206883</td>\n",
       "    </tr>\n",
       "    <tr>\n",
       "      <th>1bcuH00</th>\n",
       "      <td>2.718535</td>\n",
       "      <td>2.797782</td>\n",
       "    </tr>\n",
       "    <tr>\n",
       "      <th>1e66A01</th>\n",
       "      <td>6.056569</td>\n",
       "      <td>7.057048</td>\n",
       "    </tr>\n",
       "    <tr>\n",
       "      <th>1f8bA00</th>\n",
       "      <td>0.159644</td>\n",
       "      <td>0.122874</td>\n",
       "    </tr>\n",
       "  </tbody>\n",
       "</table>\n",
       "</div>"
      ],
      "text/plain": [
       "           native      pred\n",
       "10gsA00  0.415111  3.963324\n",
       "1a30A00  5.448684  7.206883\n",
       "1bcuH00  2.718535  2.797782\n",
       "1e66A01  6.056569  7.057048\n",
       "1f8bA00  0.159644  0.122874"
      ]
     },
     "execution_count": 16,
     "metadata": {},
     "output_type": "execute_result"
    }
   ],
   "source": [
    "geaux_df.head()"
   ]
  },
  {
   "cell_type": "code",
   "execution_count": 17,
   "metadata": {
    "collapsed": true
   },
   "outputs": [],
   "source": [
    "native_pocket_geaux_rmsd = pd.DataFrame({\"rmsd\": geaux_df.native,\n",
    "                                       \"Program\": \"GeauxDock\",\n",
    "                                       \"Pocket\": \"Experimental Pocket\"})\n",
    "predicted_pocket_geaux_rmsd = pd.DataFrame({\"rmsd\": geaux_df.pred,\n",
    "                                          \"Program\": \"GeauxDock\",\n",
    "                                          \"Pocket\": \"Predicted Pocket\"})"
   ]
  },
  {
   "cell_type": "code",
   "execution_count": 18,
   "metadata": {
    "collapsed": false
   },
   "outputs": [
    {
     "data": {
      "text/html": [
       "<div>\n",
       "<table border=\"1\" class=\"dataframe\">\n",
       "  <thead>\n",
       "    <tr style=\"text-align: right;\">\n",
       "      <th></th>\n",
       "      <th>Pocket</th>\n",
       "      <th>Program</th>\n",
       "      <th>rmsd</th>\n",
       "    </tr>\n",
       "  </thead>\n",
       "  <tbody>\n",
       "    <tr>\n",
       "      <th>10gsA00</th>\n",
       "      <td>Experimental Pocket</td>\n",
       "      <td>GeauxDock</td>\n",
       "      <td>0.415111</td>\n",
       "    </tr>\n",
       "    <tr>\n",
       "      <th>1a30A00</th>\n",
       "      <td>Experimental Pocket</td>\n",
       "      <td>GeauxDock</td>\n",
       "      <td>5.448684</td>\n",
       "    </tr>\n",
       "    <tr>\n",
       "      <th>1bcuH00</th>\n",
       "      <td>Experimental Pocket</td>\n",
       "      <td>GeauxDock</td>\n",
       "      <td>2.718535</td>\n",
       "    </tr>\n",
       "    <tr>\n",
       "      <th>1e66A01</th>\n",
       "      <td>Experimental Pocket</td>\n",
       "      <td>GeauxDock</td>\n",
       "      <td>6.056569</td>\n",
       "    </tr>\n",
       "    <tr>\n",
       "      <th>1f8bA00</th>\n",
       "      <td>Experimental Pocket</td>\n",
       "      <td>GeauxDock</td>\n",
       "      <td>0.159644</td>\n",
       "    </tr>\n",
       "  </tbody>\n",
       "</table>\n",
       "</div>"
      ],
      "text/plain": [
       "                      Pocket    Program      rmsd\n",
       "10gsA00  Experimental Pocket  GeauxDock  0.415111\n",
       "1a30A00  Experimental Pocket  GeauxDock  5.448684\n",
       "1bcuH00  Experimental Pocket  GeauxDock  2.718535\n",
       "1e66A01  Experimental Pocket  GeauxDock  6.056569\n",
       "1f8bA00  Experimental Pocket  GeauxDock  0.159644"
      ]
     },
     "execution_count": 18,
     "metadata": {},
     "output_type": "execute_result"
    }
   ],
   "source": [
    "native_pocket_geaux_rmsd.head()"
   ]
  },
  {
   "cell_type": "code",
   "execution_count": 19,
   "metadata": {
    "collapsed": false
   },
   "outputs": [
    {
     "data": {
      "text/html": [
       "<div>\n",
       "<table border=\"1\" class=\"dataframe\">\n",
       "  <thead>\n",
       "    <tr style=\"text-align: right;\">\n",
       "      <th></th>\n",
       "      <th>Pocket</th>\n",
       "      <th>Program</th>\n",
       "      <th>rmsd</th>\n",
       "    </tr>\n",
       "  </thead>\n",
       "  <tbody>\n",
       "    <tr>\n",
       "      <th>10gsA00</th>\n",
       "      <td>Predicted Pocket</td>\n",
       "      <td>GeauxDock</td>\n",
       "      <td>3.963324</td>\n",
       "    </tr>\n",
       "    <tr>\n",
       "      <th>1a30A00</th>\n",
       "      <td>Predicted Pocket</td>\n",
       "      <td>GeauxDock</td>\n",
       "      <td>7.206883</td>\n",
       "    </tr>\n",
       "    <tr>\n",
       "      <th>1bcuH00</th>\n",
       "      <td>Predicted Pocket</td>\n",
       "      <td>GeauxDock</td>\n",
       "      <td>2.797782</td>\n",
       "    </tr>\n",
       "    <tr>\n",
       "      <th>1e66A01</th>\n",
       "      <td>Predicted Pocket</td>\n",
       "      <td>GeauxDock</td>\n",
       "      <td>7.057048</td>\n",
       "    </tr>\n",
       "    <tr>\n",
       "      <th>1f8bA00</th>\n",
       "      <td>Predicted Pocket</td>\n",
       "      <td>GeauxDock</td>\n",
       "      <td>0.122874</td>\n",
       "    </tr>\n",
       "  </tbody>\n",
       "</table>\n",
       "</div>"
      ],
      "text/plain": [
       "                   Pocket    Program      rmsd\n",
       "10gsA00  Predicted Pocket  GeauxDock  3.963324\n",
       "1a30A00  Predicted Pocket  GeauxDock  7.206883\n",
       "1bcuH00  Predicted Pocket  GeauxDock  2.797782\n",
       "1e66A01  Predicted Pocket  GeauxDock  7.057048\n",
       "1f8bA00  Predicted Pocket  GeauxDock  0.122874"
      ]
     },
     "execution_count": 19,
     "metadata": {},
     "output_type": "execute_result"
    }
   ],
   "source": [
    "predicted_pocket_geaux_rmsd.head()"
   ]
  },
  {
   "cell_type": "code",
   "execution_count": 20,
   "metadata": {
    "collapsed": true
   },
   "outputs": [],
   "source": [
    "hued_df = pd.concat([native_pocket_geaux_rmsd, native_pocket_vina_rmsd,\n",
    "                    predicted_pocket_geaux_rmsd, predicted_pocket_vina_rmsd],\n",
    "                   axis=0)"
   ]
  },
  {
   "cell_type": "code",
   "execution_count": 21,
   "metadata": {
    "collapsed": false
   },
   "outputs": [
    {
     "data": {
      "text/plain": [
       "(760, 3)"
      ]
     },
     "execution_count": 21,
     "metadata": {},
     "output_type": "execute_result"
    }
   ],
   "source": [
    "hued_df.shape"
   ]
  },
  {
   "cell_type": "code",
   "execution_count": 22,
   "metadata": {
    "collapsed": false
   },
   "outputs": [
    {
     "data": {
      "text/html": [
       "<div>\n",
       "<table border=\"1\" class=\"dataframe\">\n",
       "  <thead>\n",
       "    <tr style=\"text-align: right;\">\n",
       "      <th></th>\n",
       "      <th>Pocket</th>\n",
       "      <th>Program</th>\n",
       "      <th>rmsd</th>\n",
       "    </tr>\n",
       "  </thead>\n",
       "  <tbody>\n",
       "    <tr>\n",
       "      <th>10gsA00</th>\n",
       "      <td>Experimental Pocket</td>\n",
       "      <td>GeauxDock</td>\n",
       "      <td>0.415111</td>\n",
       "    </tr>\n",
       "    <tr>\n",
       "      <th>1a30A00</th>\n",
       "      <td>Experimental Pocket</td>\n",
       "      <td>GeauxDock</td>\n",
       "      <td>5.448684</td>\n",
       "    </tr>\n",
       "    <tr>\n",
       "      <th>1bcuH00</th>\n",
       "      <td>Experimental Pocket</td>\n",
       "      <td>GeauxDock</td>\n",
       "      <td>2.718535</td>\n",
       "    </tr>\n",
       "    <tr>\n",
       "      <th>1e66A01</th>\n",
       "      <td>Experimental Pocket</td>\n",
       "      <td>GeauxDock</td>\n",
       "      <td>6.056569</td>\n",
       "    </tr>\n",
       "    <tr>\n",
       "      <th>1f8bA00</th>\n",
       "      <td>Experimental Pocket</td>\n",
       "      <td>GeauxDock</td>\n",
       "      <td>0.159644</td>\n",
       "    </tr>\n",
       "  </tbody>\n",
       "</table>\n",
       "</div>"
      ],
      "text/plain": [
       "                      Pocket    Program      rmsd\n",
       "10gsA00  Experimental Pocket  GeauxDock  0.415111\n",
       "1a30A00  Experimental Pocket  GeauxDock  5.448684\n",
       "1bcuH00  Experimental Pocket  GeauxDock  2.718535\n",
       "1e66A01  Experimental Pocket  GeauxDock  6.056569\n",
       "1f8bA00  Experimental Pocket  GeauxDock  0.159644"
      ]
     },
     "execution_count": 22,
     "metadata": {},
     "output_type": "execute_result"
    }
   ],
   "source": [
    "hued_df.head()"
   ]
  },
  {
   "cell_type": "code",
   "execution_count": 23,
   "metadata": {
    "collapsed": false
   },
   "outputs": [],
   "source": [
    "df = pd.concat([geaux_df, vina_df], axis=1)\n",
    "df.columns = ['GeauxDock(Native)', 'GeauxDock(Pred)', \n",
    "              'Vina(Native)', 'Vina(Pred)']"
   ]
  },
  {
   "cell_type": "code",
   "execution_count": 24,
   "metadata": {
    "collapsed": false
   },
   "outputs": [
    {
     "data": {
      "text/html": [
       "<div>\n",
       "<table border=\"1\" class=\"dataframe\">\n",
       "  <thead>\n",
       "    <tr style=\"text-align: right;\">\n",
       "      <th></th>\n",
       "      <th>GeauxDock(Native)</th>\n",
       "      <th>GeauxDock(Pred)</th>\n",
       "      <th>Vina(Native)</th>\n",
       "      <th>Vina(Pred)</th>\n",
       "    </tr>\n",
       "  </thead>\n",
       "  <tbody>\n",
       "    <tr>\n",
       "      <th>count</th>\n",
       "      <td>185.000000</td>\n",
       "      <td>184.000000</td>\n",
       "      <td>185.000000</td>\n",
       "      <td>185.000000</td>\n",
       "    </tr>\n",
       "    <tr>\n",
       "      <th>mean</th>\n",
       "      <td>3.161133</td>\n",
       "      <td>5.090937</td>\n",
       "      <td>2.928834</td>\n",
       "      <td>4.288701</td>\n",
       "    </tr>\n",
       "    <tr>\n",
       "      <th>std</th>\n",
       "      <td>2.755584</td>\n",
       "      <td>2.997043</td>\n",
       "      <td>2.542183</td>\n",
       "      <td>2.811065</td>\n",
       "    </tr>\n",
       "    <tr>\n",
       "      <th>min</th>\n",
       "      <td>0.070686</td>\n",
       "      <td>0.114197</td>\n",
       "      <td>0.270436</td>\n",
       "      <td>0.169694</td>\n",
       "    </tr>\n",
       "    <tr>\n",
       "      <th>25%</th>\n",
       "      <td>0.806296</td>\n",
       "      <td>2.770624</td>\n",
       "      <td>0.947880</td>\n",
       "      <td>2.034707</td>\n",
       "    </tr>\n",
       "    <tr>\n",
       "      <th>50%</th>\n",
       "      <td>2.718535</td>\n",
       "      <td>4.924963</td>\n",
       "      <td>1.977336</td>\n",
       "      <td>4.024962</td>\n",
       "    </tr>\n",
       "    <tr>\n",
       "      <th>75%</th>\n",
       "      <td>4.869439</td>\n",
       "      <td>7.123298</td>\n",
       "      <td>4.425672</td>\n",
       "      <td>6.380297</td>\n",
       "    </tr>\n",
       "    <tr>\n",
       "      <th>max</th>\n",
       "      <td>15.337425</td>\n",
       "      <td>13.025151</td>\n",
       "      <td>13.167786</td>\n",
       "      <td>13.961276</td>\n",
       "    </tr>\n",
       "  </tbody>\n",
       "</table>\n",
       "</div>"
      ],
      "text/plain": [
       "       GeauxDock(Native)  GeauxDock(Pred)  Vina(Native)  Vina(Pred)\n",
       "count         185.000000       184.000000    185.000000  185.000000\n",
       "mean            3.161133         5.090937      2.928834    4.288701\n",
       "std             2.755584         2.997043      2.542183    2.811065\n",
       "min             0.070686         0.114197      0.270436    0.169694\n",
       "25%             0.806296         2.770624      0.947880    2.034707\n",
       "50%             2.718535         4.924963      1.977336    4.024962\n",
       "75%             4.869439         7.123298      4.425672    6.380297\n",
       "max            15.337425        13.025151     13.167786   13.961276"
      ]
     },
     "execution_count": 24,
     "metadata": {},
     "output_type": "execute_result"
    }
   ],
   "source": [
    "df.describe()"
   ]
  },
  {
   "cell_type": "code",
   "execution_count": 25,
   "metadata": {
    "collapsed": true
   },
   "outputs": [],
   "source": [
    "df.to_csv(\"../dat/benchmark.csv\")"
   ]
  },
  {
   "cell_type": "code",
   "execution_count": 26,
   "metadata": {
    "collapsed": false
   },
   "outputs": [
    {
     "data": {
      "text/html": [
       "<div>\n",
       "<table border=\"1\" class=\"dataframe\">\n",
       "  <thead>\n",
       "    <tr style=\"text-align: right;\">\n",
       "      <th></th>\n",
       "      <th>GeauxDock(Native)</th>\n",
       "      <th>GeauxDock(Pred)</th>\n",
       "      <th>Vina(Native)</th>\n",
       "      <th>Vina(Pred)</th>\n",
       "    </tr>\n",
       "  </thead>\n",
       "  <tbody>\n",
       "    <tr>\n",
       "      <th>10gsA00</th>\n",
       "      <td>0.415111</td>\n",
       "      <td>3.963324</td>\n",
       "      <td>7.493246</td>\n",
       "      <td>7.515153</td>\n",
       "    </tr>\n",
       "    <tr>\n",
       "      <th>1a30A00</th>\n",
       "      <td>5.448684</td>\n",
       "      <td>7.206883</td>\n",
       "      <td>4.340904</td>\n",
       "      <td>4.556522</td>\n",
       "    </tr>\n",
       "    <tr>\n",
       "      <th>1bcuH00</th>\n",
       "      <td>2.718535</td>\n",
       "      <td>2.797782</td>\n",
       "      <td>2.636271</td>\n",
       "      <td>2.653116</td>\n",
       "    </tr>\n",
       "    <tr>\n",
       "      <th>1e66A01</th>\n",
       "      <td>6.056569</td>\n",
       "      <td>7.057048</td>\n",
       "      <td>0.925487</td>\n",
       "      <td>5.721366</td>\n",
       "    </tr>\n",
       "    <tr>\n",
       "      <th>1f8bA00</th>\n",
       "      <td>0.159644</td>\n",
       "      <td>0.122874</td>\n",
       "      <td>1.277627</td>\n",
       "      <td>4.744234</td>\n",
       "    </tr>\n",
       "  </tbody>\n",
       "</table>\n",
       "</div>"
      ],
      "text/plain": [
       "         GeauxDock(Native)  GeauxDock(Pred)  Vina(Native)  Vina(Pred)\n",
       "10gsA00           0.415111         3.963324      7.493246    7.515153\n",
       "1a30A00           5.448684         7.206883      4.340904    4.556522\n",
       "1bcuH00           2.718535         2.797782      2.636271    2.653116\n",
       "1e66A01           6.056569         7.057048      0.925487    5.721366\n",
       "1f8bA00           0.159644         0.122874      1.277627    4.744234"
      ]
     },
     "execution_count": 26,
     "metadata": {},
     "output_type": "execute_result"
    }
   ],
   "source": [
    "df.head()"
   ]
  },
  {
   "cell_type": "code",
   "execution_count": 27,
   "metadata": {
    "collapsed": false
   },
   "outputs": [],
   "source": [
    "df['complex'] = df.index.values"
   ]
  },
  {
   "cell_type": "code",
   "execution_count": 28,
   "metadata": {
    "collapsed": false
   },
   "outputs": [
    {
     "data": {
      "image/png": "[encoded data removed]",
      "text/plain": [
       "<matplotlib.figure.Figure at 0x1143dddd0>"
      ]
     },
     "metadata": {},
     "output_type": "display_data"
    }
   ],
   "source": [
    "plt.figure()\n",
    "ax = sns.boxplot(data=hued_df, hue=\"Program\", x='Pocket', y='rmsd', \n",
    "                 notch=True, linewidth=0.5, width=0.7)\n",
    "ax.legend(loc='upper center')\n",
    "plt.xlabel(\"\")\n",
    "plt.ylabel(\"RMSD [$\\AA$]\")\n",
    "plt.savefig(\"../dat/rmsd_box.tiff\", dpi=300)"
   ]
  },
  {
   "cell_type": "markdown",
   "metadata": {
    "collapsed": true
   },
   "source": [
    "# Using Modeled Protein Structures"
   ]
  },
  {
   "cell_type": "code",
   "execution_count": 29,
   "metadata": {
    "collapsed": true
   },
   "outputs": [],
   "source": [
    "modeled_result_ifn = \"../dat/geaux_modeled_prt_rmsd.json\""
   ]
  },
  {
   "cell_type": "code",
   "execution_count": 30,
   "metadata": {
    "collapsed": true
   },
   "outputs": [],
   "source": [
    "with open(modeled_result_ifn, 'r') as ifs:\n",
    "    data = json.loads(ifs.read())"
   ]
  },
  {
   "cell_type": "code",
   "execution_count": 31,
   "metadata": {
    "collapsed": false
   },
   "outputs": [],
   "source": [
    "df = pd.DataFrame(data).T"
   ]
  },
  {
   "cell_type": "code",
   "execution_count": 32,
   "metadata": {
    "collapsed": false
   },
   "outputs": [
    {
     "data": {
      "text/html": [
       "<div>\n",
       "<table border=\"1\" class=\"dataframe\">\n",
       "  <thead>\n",
       "    <tr style=\"text-align: right;\">\n",
       "      <th></th>\n",
       "      <th>geaux_0.5</th>\n",
       "      <th>geaux_0.7</th>\n",
       "      <th>vina_0.5</th>\n",
       "      <th>vina_0.7</th>\n",
       "    </tr>\n",
       "  </thead>\n",
       "  <tbody>\n",
       "    <tr>\n",
       "      <th>10gsA00</th>\n",
       "      <td>20.3752</td>\n",
       "      <td>20.318</td>\n",
       "      <td>18.8528</td>\n",
       "      <td>20.931</td>\n",
       "    </tr>\n",
       "    <tr>\n",
       "      <th>1a30A00</th>\n",
       "      <td>7.35769</td>\n",
       "      <td>7.36673</td>\n",
       "      <td>8.26353</td>\n",
       "      <td>8.39223</td>\n",
       "    </tr>\n",
       "    <tr>\n",
       "      <th>1bcuH00</th>\n",
       "      <td>2.31574</td>\n",
       "      <td>2.37372</td>\n",
       "      <td>4.7447</td>\n",
       "      <td>4.77876</td>\n",
       "    </tr>\n",
       "    <tr>\n",
       "      <th>1e66A01</th>\n",
       "      <td>4.31504</td>\n",
       "      <td>5.62214</td>\n",
       "      <td>6.05278</td>\n",
       "      <td>4.5176</td>\n",
       "    </tr>\n",
       "    <tr>\n",
       "      <th>1f8bA00</th>\n",
       "      <td>0.154302</td>\n",
       "      <td>0.159532</td>\n",
       "      <td>4.58574</td>\n",
       "      <td>4.4227</td>\n",
       "    </tr>\n",
       "  </tbody>\n",
       "</table>\n",
       "</div>"
      ],
      "text/plain": [
       "        geaux_0.5 geaux_0.7 vina_0.5 vina_0.7\n",
       "10gsA00   20.3752    20.318  18.8528   20.931\n",
       "1a30A00   7.35769   7.36673  8.26353  8.39223\n",
       "1bcuH00   2.31574   2.37372   4.7447  4.77876\n",
       "1e66A01   4.31504   5.62214  6.05278   4.5176\n",
       "1f8bA00  0.154302  0.159532  4.58574   4.4227"
      ]
     },
     "execution_count": 32,
     "metadata": {},
     "output_type": "execute_result"
    }
   ],
   "source": [
    "df.head()"
   ]
  },
  {
   "cell_type": "code",
   "execution_count": 33,
   "metadata": {
    "collapsed": false
   },
   "outputs": [
    {
     "data": {
      "text/plain": [
       "4.746856079486173"
      ]
     },
     "execution_count": 33,
     "metadata": {},
     "output_type": "execute_result"
    }
   ],
   "source": [
    "df['geaux_0.5'].median()"
   ]
  },
  {
   "cell_type": "code",
   "execution_count": 34,
   "metadata": {
    "collapsed": false
   },
   "outputs": [
    {
     "data": {
      "text/plain": [
       "4.7554402681560415"
      ]
     },
     "execution_count": 34,
     "metadata": {},
     "output_type": "execute_result"
    }
   ],
   "source": [
    "df['geaux_0.7'].median()"
   ]
  },
  {
   "cell_type": "code",
   "execution_count": 35,
   "metadata": {
    "collapsed": false
   },
   "outputs": [
    {
     "data": {
      "text/plain": [
       "6.043412963645158"
      ]
     },
     "execution_count": 35,
     "metadata": {},
     "output_type": "execute_result"
    }
   ],
   "source": [
    "df['vina_0.5'].median()"
   ]
  },
  {
   "cell_type": "code",
   "execution_count": 36,
   "metadata": {
    "collapsed": false
   },
   "outputs": [
    {
     "data": {
      "text/plain": [
       "6.328080199431766"
      ]
     },
     "execution_count": 36,
     "metadata": {},
     "output_type": "execute_result"
    }
   ],
   "source": [
    "df['vina_0.7'].median()"
   ]
  },
  {
   "cell_type": "code",
   "execution_count": 37,
   "metadata": {
    "collapsed": true
   },
   "outputs": [],
   "source": [
    "df.to_csv(\"../dat/geaux_modeled_prt_rmsd.csv\")"
   ]
  },
  {
   "cell_type": "code",
   "execution_count": 38,
   "metadata": {
    "collapsed": false
   },
   "outputs": [
    {
     "data": {
      "text/plain": [
       "<matplotlib.text.Text at 0x11a02aad0>"
      ]
     },
     "execution_count": 38,
     "metadata": {},
     "output_type": "execute_result"
    },
    {
     "data": {
      "image/png": "[encoded data removed]",
      "text/plain": [
       "<matplotlib.figure.Figure at 0x119397fd0>"
      ]
     },
     "metadata": {},
     "output_type": "display_data"
    }
   ],
   "source": [
    "plt.figure()\n",
    "ax = sns.boxplot(data=df[['geaux_0.7', 'vina_0.7']],\n",
    "                 notch=True, linewidth=0.5, width=0.7)\n",
    "#ax.legend(loc='upper center')\n",
    "#plt.xlabel(\"\")\n",
    "plt.ylabel(\"RMSD [$\\AA$]\")\n",
    "#plt.savefig(\"../dat/rmsd_box.tiff\", dpi=300)"
   ]
  },
  {
   "cell_type": "code",
   "execution_count": 39,
   "metadata": {
    "collapsed": false
   },
   "outputs": [
    {
     "data": {
      "text/plain": [
       "<matplotlib.text.Text at 0x11a9464d0>"
      ]
     },
     "execution_count": 39,
     "metadata": {},
     "output_type": "execute_result"
    },
    {
     "data": {
      "image/png": "[encoded data removed]",
      "text/plain": [
       "<matplotlib.figure.Figure at 0x11a592350>"
      ]
     },
     "metadata": {},
     "output_type": "display_data"
    }
   ],
   "source": [
    "plt.figure()\n",
    "ax = sns.boxplot(data=df[['geaux_0.5', 'vina_0.5']],\n",
    "                 notch=True, linewidth=0.5, width=0.7)\n",
    "#ax.legend(loc='upper center')\n",
    "#plt.xlabel(\"\")\n",
    "plt.ylabel(\"RMSD [$\\AA$]\")\n",
    "#plt.savefig(\"../dat/rmsd_box.tiff\", dpi=300)"
   ]
  },
  {
   "cell_type": "markdown",
   "metadata": {},
   "source": [
    "# Combined"
   ]
  },
  {
   "cell_type": "code",
   "execution_count": 40,
   "metadata": {
    "collapsed": true
   },
   "outputs": [],
   "source": [
    "model_df = df[['geaux_0.7', 'vina_0.7']].dropna()"
   ]
  },
  {
   "cell_type": "code",
   "execution_count": 41,
   "metadata": {
    "collapsed": false
   },
   "outputs": [
    {
     "data": {
      "text/plain": [
       "(159,)"
      ]
     },
     "execution_count": 41,
     "metadata": {},
     "output_type": "execute_result"
    }
   ],
   "source": [
    "model_df.index.shape"
   ]
  },
  {
   "cell_type": "code",
   "execution_count": 42,
   "metadata": {
    "collapsed": false
   },
   "outputs": [],
   "source": [
    "exp_df = hued_df[hued_df['Pocket'] == 'Experimental Pocket']\n",
    "exp_df = exp_df[exp_df.index.isin(model_df.index)]\n",
    "exp_df.columns = ['Pocket', 'Program', 'rmsd']\n",
    "exp_df['Pocket'] = ['Self-Docking'] * len(exp_df)"
   ]
  },
  {
   "cell_type": "code",
   "execution_count": 43,
   "metadata": {
    "collapsed": false
   },
   "outputs": [
    {
     "data": {
      "text/plain": [
       "(317, 3)"
      ]
     },
     "execution_count": 43,
     "metadata": {},
     "output_type": "execute_result"
    }
   ],
   "source": [
    "exp_df.shape"
   ]
  },
  {
   "cell_type": "code",
   "execution_count": 44,
   "metadata": {
    "collapsed": false
   },
   "outputs": [
    {
     "data": {
      "text/html": [
       "<div>\n",
       "<table border=\"1\" class=\"dataframe\">\n",
       "  <thead>\n",
       "    <tr style=\"text-align: right;\">\n",
       "      <th></th>\n",
       "      <th>geaux_0.7</th>\n",
       "      <th>vina_0.7</th>\n",
       "    </tr>\n",
       "  </thead>\n",
       "  <tbody>\n",
       "    <tr>\n",
       "      <th>10gsA00</th>\n",
       "      <td>20.318</td>\n",
       "      <td>20.931</td>\n",
       "    </tr>\n",
       "    <tr>\n",
       "      <th>1a30A00</th>\n",
       "      <td>7.36673</td>\n",
       "      <td>8.39223</td>\n",
       "    </tr>\n",
       "    <tr>\n",
       "      <th>1bcuH00</th>\n",
       "      <td>2.37372</td>\n",
       "      <td>4.77876</td>\n",
       "    </tr>\n",
       "    <tr>\n",
       "      <th>1e66A01</th>\n",
       "      <td>5.62214</td>\n",
       "      <td>4.5176</td>\n",
       "    </tr>\n",
       "    <tr>\n",
       "      <th>1f8bA00</th>\n",
       "      <td>0.159532</td>\n",
       "      <td>4.4227</td>\n",
       "    </tr>\n",
       "  </tbody>\n",
       "</table>\n",
       "</div>"
      ],
      "text/plain": [
       "        geaux_0.7 vina_0.7\n",
       "10gsA00    20.318   20.931\n",
       "1a30A00   7.36673  8.39223\n",
       "1bcuH00   2.37372  4.77876\n",
       "1e66A01   5.62214   4.5176\n",
       "1f8bA00  0.159532   4.4227"
      ]
     },
     "execution_count": 44,
     "metadata": {},
     "output_type": "execute_result"
    }
   ],
   "source": [
    "model_df.head()"
   ]
  },
  {
   "cell_type": "code",
   "execution_count": 45,
   "metadata": {
    "collapsed": true
   },
   "outputs": [],
   "source": [
    "geaux_df = pd.DataFrame({\"rmsd\": model_df['geaux_0.7'],\n",
    "                        \"Pocket\": 'Model-Docking',\n",
    "                        \"Program\": 'GeauxDock'})\n",
    "vina_df = pd.DataFrame({\"rmsd\": model_df['vina_0.7'],\n",
    "                       \"Pocket\": 'Model-Docking',\n",
    "                       \"Program\": 'AutoDock Vina'})"
   ]
  },
  {
   "cell_type": "code",
   "execution_count": 46,
   "metadata": {
    "collapsed": false
   },
   "outputs": [],
   "source": [
    "final_hued_df = pd.concat([exp_df, geaux_df, vina_df], axis=0)"
   ]
  },
  {
   "cell_type": "code",
   "execution_count": 47,
   "metadata": {
    "collapsed": false
   },
   "outputs": [
    {
     "data": {
      "text/html": [
       "<div>\n",
       "<table border=\"1\" class=\"dataframe\">\n",
       "  <thead>\n",
       "    <tr style=\"text-align: right;\">\n",
       "      <th></th>\n",
       "      <th>Pocket</th>\n",
       "      <th>Program</th>\n",
       "      <th>rmsd</th>\n",
       "    </tr>\n",
       "  </thead>\n",
       "  <tbody>\n",
       "    <tr>\n",
       "      <th>10gsA00</th>\n",
       "      <td>Self-Docking</td>\n",
       "      <td>GeauxDock</td>\n",
       "      <td>0.415111</td>\n",
       "    </tr>\n",
       "    <tr>\n",
       "      <th>1a30A00</th>\n",
       "      <td>Self-Docking</td>\n",
       "      <td>GeauxDock</td>\n",
       "      <td>5.44868</td>\n",
       "    </tr>\n",
       "    <tr>\n",
       "      <th>1bcuH00</th>\n",
       "      <td>Self-Docking</td>\n",
       "      <td>GeauxDock</td>\n",
       "      <td>2.71853</td>\n",
       "    </tr>\n",
       "    <tr>\n",
       "      <th>1e66A01</th>\n",
       "      <td>Self-Docking</td>\n",
       "      <td>GeauxDock</td>\n",
       "      <td>6.05657</td>\n",
       "    </tr>\n",
       "    <tr>\n",
       "      <th>1f8bA00</th>\n",
       "      <td>Self-Docking</td>\n",
       "      <td>GeauxDock</td>\n",
       "      <td>0.159644</td>\n",
       "    </tr>\n",
       "  </tbody>\n",
       "</table>\n",
       "</div>"
      ],
      "text/plain": [
       "               Pocket    Program      rmsd\n",
       "10gsA00  Self-Docking  GeauxDock  0.415111\n",
       "1a30A00  Self-Docking  GeauxDock   5.44868\n",
       "1bcuH00  Self-Docking  GeauxDock   2.71853\n",
       "1e66A01  Self-Docking  GeauxDock   6.05657\n",
       "1f8bA00  Self-Docking  GeauxDock  0.159644"
      ]
     },
     "execution_count": 47,
     "metadata": {},
     "output_type": "execute_result"
    }
   ],
   "source": [
    "final_hued_df.head()"
   ]
  },
  {
   "cell_type": "code",
   "execution_count": 48,
   "metadata": {
    "collapsed": false
   },
   "outputs": [
    {
     "data": {
      "text/plain": [
       "(635, 3)"
      ]
     },
     "execution_count": 48,
     "metadata": {},
     "output_type": "execute_result"
    }
   ],
   "source": [
    "final_hued_df.shape"
   ]
  },
  {
   "cell_type": "code",
   "execution_count": 49,
   "metadata": {
    "collapsed": false
   },
   "outputs": [
    {
     "data": {
      "image/png": "[encoded data removed]",
      "text/plain": [
       "<matplotlib.figure.Figure at 0x1146eba50>"
      ]
     },
     "metadata": {},
     "output_type": "display_data"
    }
   ],
   "source": [
    "plt.figure()\n",
    "ax = sns.boxplot(data=final_hued_df, hue=\"Program\", x='Pocket', y='rmsd', \n",
    "                 showfliers=False,\n",
    "                 notch=True, linewidth=0.5, width=0.7)\n",
    "\n",
    "#box = ax.artists[0]\n",
    "#box.set_hatch('0')\n",
    "#box = ax.artists[1]\n",
    "#box.set_hatch('0')\n",
    "\n",
    "#box = ax.artists[2]\n",
    "#box.set_hatch('x')\n",
    "#box = ax.artists[3]\n",
    "#box.set_hatch('x')\n",
    "\n",
    "ax.legend(loc='upper left')\n",
    "plt.xlabel(\"\")\n",
    "plt.ylabel(\"RMSD [$\\AA$]\")\n",
    "plt.savefig(\"../dat/rmsd_box.tiff\", dpi=300)"
   ]
  },
  {
   "cell_type": "code",
   "execution_count": null,
   "metadata": {
    "collapsed": true
   },
   "outputs": [],
   "source": []
  }
 ],
 "metadata": {
  "kernelspec": {
   "display_name": "Python 2",
   "language": "python",
   "name": "python2"
  },
  "language_info": {
   "codemirror_mode": {
    "name": "ipython",
    "version": 2
   },
   "file_extension": ".py",
   "mimetype": "text/x-python",
   "name": "python",
   "nbconvert_exporter": "python",
   "pygments_lexer": "ipython2",
   "version": "2.7.11"
  }
 },
 "nbformat": 4,
 "nbformat_minor": 0
}
