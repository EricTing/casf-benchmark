{
 "cells": [
  {
   "cell_type": "code",
   "execution_count": 1,
   "metadata": {
    "collapsed": false
   },
   "outputs": [],
   "source": [
    "%matplotlib inline\n",
    "%load_ext autoreload\n",
    "%autoreload 2\n",
    "\n",
    "import matplotlib\n",
    "import matplotlib.pyplot as plt\n",
    "import pandas as pd\n",
    "import numpy as np\n",
    "import seaborn as sns\n",
    "\n",
    "\n",
    "sns.set_style(\"white\", {'ytick.major.size': 10.0})\n",
    "sns.set_context(\"poster\", font_scale=1.1)\n",
    "matplotlib.rcParams.update({'font.size': 18, 'font.family': 'serif'})"
   ]
  },
  {
   "cell_type": "code",
   "execution_count": 2,
   "metadata": {
    "collapsed": false
   },
   "outputs": [
    {
     "name": "stdout",
     "output_type": "stream",
     "text": [
      "benchmark.csv           casf_names.txt          geaux_pred_rmsd.json\r\n",
      "casf.txt                geaux_native_rmsd.json  vina_rmsd.json\r\n"
     ]
    }
   ],
   "source": [
    "ls ../dat/"
   ]
  },
  {
   "cell_type": "code",
   "execution_count": 3,
   "metadata": {
    "collapsed": true
   },
   "outputs": [],
   "source": [
    "import json"
   ]
  },
  {
   "cell_type": "code",
   "execution_count": 4,
   "metadata": {
    "collapsed": true
   },
   "outputs": [],
   "source": [
    "vina_dat = json.loads(open(\"../dat/vina_rmsd.json\").read())"
   ]
  },
  {
   "cell_type": "code",
   "execution_count": 5,
   "metadata": {
    "collapsed": false
   },
   "outputs": [],
   "source": [
    "vina_df = pd.DataFrame(vina_dat).T"
   ]
  },
  {
   "cell_type": "code",
   "execution_count": 6,
   "metadata": {
    "collapsed": false
   },
   "outputs": [
    {
     "data": {
      "text/html": [
       "<div>\n",
       "<table border=\"1\" class=\"dataframe\">\n",
       "  <thead>\n",
       "    <tr style=\"text-align: right;\">\n",
       "      <th></th>\n",
       "      <th>native_pocket_vina_rmsd</th>\n",
       "      <th>predicted_pocket_vina_rmsd</th>\n",
       "    </tr>\n",
       "  </thead>\n",
       "  <tbody>\n",
       "    <tr>\n",
       "      <th>10gsA00</th>\n",
       "      <td>7.493246</td>\n",
       "      <td>7.515153</td>\n",
       "    </tr>\n",
       "    <tr>\n",
       "      <th>1a30A00</th>\n",
       "      <td>4.340904</td>\n",
       "      <td>4.556522</td>\n",
       "    </tr>\n",
       "    <tr>\n",
       "      <th>1bcuH00</th>\n",
       "      <td>2.636271</td>\n",
       "      <td>2.653116</td>\n",
       "    </tr>\n",
       "    <tr>\n",
       "      <th>1e66A01</th>\n",
       "      <td>0.925487</td>\n",
       "      <td>5.721366</td>\n",
       "    </tr>\n",
       "    <tr>\n",
       "      <th>1f8bA00</th>\n",
       "      <td>1.277627</td>\n",
       "      <td>4.744234</td>\n",
       "    </tr>\n",
       "  </tbody>\n",
       "</table>\n",
       "</div>"
      ],
      "text/plain": [
       "         native_pocket_vina_rmsd  predicted_pocket_vina_rmsd\n",
       "10gsA00                 7.493246                    7.515153\n",
       "1a30A00                 4.340904                    4.556522\n",
       "1bcuH00                 2.636271                    2.653116\n",
       "1e66A01                 0.925487                    5.721366\n",
       "1f8bA00                 1.277627                    4.744234"
      ]
     },
     "execution_count": 6,
     "metadata": {},
     "output_type": "execute_result"
    }
   ],
   "source": [
    "vina_df.head()"
   ]
  },
  {
   "cell_type": "code",
   "execution_count": 7,
   "metadata": {
    "collapsed": true
   },
   "outputs": [],
   "source": [
    "native_pocket_vina_rmsd = pd.DataFrame({\"rmsd\": vina_df.native_pocket_vina_rmsd,\n",
    "                                       \"Program\": \"AutoDock Vina\",\n",
    "                                       \"Pocket\": \"Experimental\"})\n",
    "predicted_pocket_vina_rmsd = pd.DataFrame({\"rmsd\": vina_df.predicted_pocket_vina_rmsd,\n",
    "                                          \"Program\": \"AutoDock Vina\",\n",
    "                                          \"Pocket\": \"Predicted\"})"
   ]
  },
  {
   "cell_type": "code",
   "execution_count": 8,
   "metadata": {
    "collapsed": false
   },
   "outputs": [
    {
     "data": {
      "text/html": [
       "<div>\n",
       "<table border=\"1\" class=\"dataframe\">\n",
       "  <thead>\n",
       "    <tr style=\"text-align: right;\">\n",
       "      <th></th>\n",
       "      <th>Pocket</th>\n",
       "      <th>Program</th>\n",
       "      <th>rmsd</th>\n",
       "    </tr>\n",
       "  </thead>\n",
       "  <tbody>\n",
       "    <tr>\n",
       "      <th>10gsA00</th>\n",
       "      <td>Experimental</td>\n",
       "      <td>AutoDock Vina</td>\n",
       "      <td>7.493246</td>\n",
       "    </tr>\n",
       "    <tr>\n",
       "      <th>1a30A00</th>\n",
       "      <td>Experimental</td>\n",
       "      <td>AutoDock Vina</td>\n",
       "      <td>4.340904</td>\n",
       "    </tr>\n",
       "    <tr>\n",
       "      <th>1bcuH00</th>\n",
       "      <td>Experimental</td>\n",
       "      <td>AutoDock Vina</td>\n",
       "      <td>2.636271</td>\n",
       "    </tr>\n",
       "    <tr>\n",
       "      <th>1e66A01</th>\n",
       "      <td>Experimental</td>\n",
       "      <td>AutoDock Vina</td>\n",
       "      <td>0.925487</td>\n",
       "    </tr>\n",
       "    <tr>\n",
       "      <th>1f8bA00</th>\n",
       "      <td>Experimental</td>\n",
       "      <td>AutoDock Vina</td>\n",
       "      <td>1.277627</td>\n",
       "    </tr>\n",
       "  </tbody>\n",
       "</table>\n",
       "</div>"
      ],
      "text/plain": [
       "               Pocket        Program      rmsd\n",
       "10gsA00  Experimental  AutoDock Vina  7.493246\n",
       "1a30A00  Experimental  AutoDock Vina  4.340904\n",
       "1bcuH00  Experimental  AutoDock Vina  2.636271\n",
       "1e66A01  Experimental  AutoDock Vina  0.925487\n",
       "1f8bA00  Experimental  AutoDock Vina  1.277627"
      ]
     },
     "execution_count": 8,
     "metadata": {},
     "output_type": "execute_result"
    }
   ],
   "source": [
    "native_pocket_vina_rmsd.head()"
   ]
  },
  {
   "cell_type": "code",
   "execution_count": 9,
   "metadata": {
    "collapsed": false
   },
   "outputs": [
    {
     "data": {
      "text/html": [
       "<div>\n",
       "<table border=\"1\" class=\"dataframe\">\n",
       "  <thead>\n",
       "    <tr style=\"text-align: right;\">\n",
       "      <th></th>\n",
       "      <th>Pocket</th>\n",
       "      <th>Program</th>\n",
       "      <th>rmsd</th>\n",
       "    </tr>\n",
       "  </thead>\n",
       "  <tbody>\n",
       "    <tr>\n",
       "      <th>10gsA00</th>\n",
       "      <td>Predicted</td>\n",
       "      <td>AutoDock Vina</td>\n",
       "      <td>7.515153</td>\n",
       "    </tr>\n",
       "    <tr>\n",
       "      <th>1a30A00</th>\n",
       "      <td>Predicted</td>\n",
       "      <td>AutoDock Vina</td>\n",
       "      <td>4.556522</td>\n",
       "    </tr>\n",
       "    <tr>\n",
       "      <th>1bcuH00</th>\n",
       "      <td>Predicted</td>\n",
       "      <td>AutoDock Vina</td>\n",
       "      <td>2.653116</td>\n",
       "    </tr>\n",
       "    <tr>\n",
       "      <th>1e66A01</th>\n",
       "      <td>Predicted</td>\n",
       "      <td>AutoDock Vina</td>\n",
       "      <td>5.721366</td>\n",
       "    </tr>\n",
       "    <tr>\n",
       "      <th>1f8bA00</th>\n",
       "      <td>Predicted</td>\n",
       "      <td>AutoDock Vina</td>\n",
       "      <td>4.744234</td>\n",
       "    </tr>\n",
       "  </tbody>\n",
       "</table>\n",
       "</div>"
      ],
      "text/plain": [
       "            Pocket        Program      rmsd\n",
       "10gsA00  Predicted  AutoDock Vina  7.515153\n",
       "1a30A00  Predicted  AutoDock Vina  4.556522\n",
       "1bcuH00  Predicted  AutoDock Vina  2.653116\n",
       "1e66A01  Predicted  AutoDock Vina  5.721366\n",
       "1f8bA00  Predicted  AutoDock Vina  4.744234"
      ]
     },
     "execution_count": 9,
     "metadata": {},
     "output_type": "execute_result"
    }
   ],
   "source": [
    "predicted_pocket_vina_rmsd.head()"
   ]
  },
  {
   "cell_type": "code",
   "execution_count": 10,
   "metadata": {
    "collapsed": true
   },
   "outputs": [],
   "source": [
    "geaux_native_dat = json.loads(open(\"../dat/geaux_native_rmsd.json\").read())"
   ]
  },
  {
   "cell_type": "code",
   "execution_count": 11,
   "metadata": {
    "collapsed": false
   },
   "outputs": [],
   "source": [
    "geaux_native_series = pd.Series(geaux_native_dat)"
   ]
  },
  {
   "cell_type": "code",
   "execution_count": 12,
   "metadata": {
    "collapsed": true
   },
   "outputs": [],
   "source": [
    "geaux_pred_dat = json.loads(open(\"../dat/geaux_pred_rmsd.json\").read())\n",
    "geaux_pred_series = pd.Series(geaux_pred_dat)"
   ]
  },
  {
   "cell_type": "code",
   "execution_count": 13,
   "metadata": {
    "collapsed": true
   },
   "outputs": [],
   "source": [
    "geaux_df = pd.DataFrame()"
   ]
  },
  {
   "cell_type": "code",
   "execution_count": 14,
   "metadata": {
    "collapsed": true
   },
   "outputs": [],
   "source": [
    "geaux_df['native'] = geaux_native_series"
   ]
  },
  {
   "cell_type": "code",
   "execution_count": 15,
   "metadata": {
    "collapsed": true
   },
   "outputs": [],
   "source": [
    "geaux_df['pred'] = geaux_pred_series"
   ]
  },
  {
   "cell_type": "code",
   "execution_count": 16,
   "metadata": {
    "collapsed": false
   },
   "outputs": [
    {
     "data": {
      "text/html": [
       "<div>\n",
       "<table border=\"1\" class=\"dataframe\">\n",
       "  <thead>\n",
       "    <tr style=\"text-align: right;\">\n",
       "      <th></th>\n",
       "      <th>native</th>\n",
       "      <th>pred</th>\n",
       "    </tr>\n",
       "  </thead>\n",
       "  <tbody>\n",
       "    <tr>\n",
       "      <th>10gsA00</th>\n",
       "      <td>0.3429</td>\n",
       "      <td>2.818350</td>\n",
       "    </tr>\n",
       "    <tr>\n",
       "      <th>1a30A00</th>\n",
       "      <td>5.3969</td>\n",
       "      <td>5.856387</td>\n",
       "    </tr>\n",
       "    <tr>\n",
       "      <th>1bcuH00</th>\n",
       "      <td>4.8245</td>\n",
       "      <td>3.244480</td>\n",
       "    </tr>\n",
       "    <tr>\n",
       "      <th>1e66A01</th>\n",
       "      <td>5.1086</td>\n",
       "      <td>7.049827</td>\n",
       "    </tr>\n",
       "    <tr>\n",
       "      <th>1f8bA00</th>\n",
       "      <td>0.1382</td>\n",
       "      <td>0.137759</td>\n",
       "    </tr>\n",
       "  </tbody>\n",
       "</table>\n",
       "</div>"
      ],
      "text/plain": [
       "         native      pred\n",
       "10gsA00  0.3429  2.818350\n",
       "1a30A00  5.3969  5.856387\n",
       "1bcuH00  4.8245  3.244480\n",
       "1e66A01  5.1086  7.049827\n",
       "1f8bA00  0.1382  0.137759"
      ]
     },
     "execution_count": 16,
     "metadata": {},
     "output_type": "execute_result"
    }
   ],
   "source": [
    "geaux_df.head()"
   ]
  },
  {
   "cell_type": "code",
   "execution_count": 17,
   "metadata": {
    "collapsed": true
   },
   "outputs": [],
   "source": [
    "native_pocket_geaux_rmsd = pd.DataFrame({\"rmsd\": geaux_df.native,\n",
    "                                       \"Program\": \"GeauxDock\",\n",
    "                                       \"Pocket\": \"Experimental\"})\n",
    "predicted_pocket_geaux_rmsd = pd.DataFrame({\"rmsd\": geaux_df.pred,\n",
    "                                          \"Program\": \"GeauxDock\",\n",
    "                                          \"Pocket\": \"Predicted\"})"
   ]
  },
  {
   "cell_type": "code",
   "execution_count": 18,
   "metadata": {
    "collapsed": false
   },
   "outputs": [
    {
     "data": {
      "text/html": [
       "<div>\n",
       "<table border=\"1\" class=\"dataframe\">\n",
       "  <thead>\n",
       "    <tr style=\"text-align: right;\">\n",
       "      <th></th>\n",
       "      <th>Pocket</th>\n",
       "      <th>Program</th>\n",
       "      <th>rmsd</th>\n",
       "    </tr>\n",
       "  </thead>\n",
       "  <tbody>\n",
       "    <tr>\n",
       "      <th>10gsA00</th>\n",
       "      <td>Experimental</td>\n",
       "      <td>GeauxDock</td>\n",
       "      <td>0.3429</td>\n",
       "    </tr>\n",
       "    <tr>\n",
       "      <th>1a30A00</th>\n",
       "      <td>Experimental</td>\n",
       "      <td>GeauxDock</td>\n",
       "      <td>5.3969</td>\n",
       "    </tr>\n",
       "    <tr>\n",
       "      <th>1bcuH00</th>\n",
       "      <td>Experimental</td>\n",
       "      <td>GeauxDock</td>\n",
       "      <td>4.8245</td>\n",
       "    </tr>\n",
       "    <tr>\n",
       "      <th>1e66A01</th>\n",
       "      <td>Experimental</td>\n",
       "      <td>GeauxDock</td>\n",
       "      <td>5.1086</td>\n",
       "    </tr>\n",
       "    <tr>\n",
       "      <th>1f8bA00</th>\n",
       "      <td>Experimental</td>\n",
       "      <td>GeauxDock</td>\n",
       "      <td>0.1382</td>\n",
       "    </tr>\n",
       "  </tbody>\n",
       "</table>\n",
       "</div>"
      ],
      "text/plain": [
       "               Pocket    Program    rmsd\n",
       "10gsA00  Experimental  GeauxDock  0.3429\n",
       "1a30A00  Experimental  GeauxDock  5.3969\n",
       "1bcuH00  Experimental  GeauxDock  4.8245\n",
       "1e66A01  Experimental  GeauxDock  5.1086\n",
       "1f8bA00  Experimental  GeauxDock  0.1382"
      ]
     },
     "execution_count": 18,
     "metadata": {},
     "output_type": "execute_result"
    }
   ],
   "source": [
    "native_pocket_geaux_rmsd.head()"
   ]
  },
  {
   "cell_type": "code",
   "execution_count": 19,
   "metadata": {
    "collapsed": false
   },
   "outputs": [
    {
     "data": {
      "text/html": [
       "<div>\n",
       "<table border=\"1\" class=\"dataframe\">\n",
       "  <thead>\n",
       "    <tr style=\"text-align: right;\">\n",
       "      <th></th>\n",
       "      <th>Pocket</th>\n",
       "      <th>Program</th>\n",
       "      <th>rmsd</th>\n",
       "    </tr>\n",
       "  </thead>\n",
       "  <tbody>\n",
       "    <tr>\n",
       "      <th>10gsA00</th>\n",
       "      <td>Predicted</td>\n",
       "      <td>GeauxDock</td>\n",
       "      <td>2.818350</td>\n",
       "    </tr>\n",
       "    <tr>\n",
       "      <th>1a30A00</th>\n",
       "      <td>Predicted</td>\n",
       "      <td>GeauxDock</td>\n",
       "      <td>5.856387</td>\n",
       "    </tr>\n",
       "    <tr>\n",
       "      <th>1bcuH00</th>\n",
       "      <td>Predicted</td>\n",
       "      <td>GeauxDock</td>\n",
       "      <td>3.244480</td>\n",
       "    </tr>\n",
       "    <tr>\n",
       "      <th>1e66A01</th>\n",
       "      <td>Predicted</td>\n",
       "      <td>GeauxDock</td>\n",
       "      <td>7.049827</td>\n",
       "    </tr>\n",
       "    <tr>\n",
       "      <th>1f8bA00</th>\n",
       "      <td>Predicted</td>\n",
       "      <td>GeauxDock</td>\n",
       "      <td>0.137759</td>\n",
       "    </tr>\n",
       "  </tbody>\n",
       "</table>\n",
       "</div>"
      ],
      "text/plain": [
       "            Pocket    Program      rmsd\n",
       "10gsA00  Predicted  GeauxDock  2.818350\n",
       "1a30A00  Predicted  GeauxDock  5.856387\n",
       "1bcuH00  Predicted  GeauxDock  3.244480\n",
       "1e66A01  Predicted  GeauxDock  7.049827\n",
       "1f8bA00  Predicted  GeauxDock  0.137759"
      ]
     },
     "execution_count": 19,
     "metadata": {},
     "output_type": "execute_result"
    }
   ],
   "source": [
    "predicted_pocket_geaux_rmsd.head()"
   ]
  },
  {
   "cell_type": "code",
   "execution_count": 20,
   "metadata": {
    "collapsed": true
   },
   "outputs": [],
   "source": [
    "hued_df = pd.concat([native_pocket_geaux_rmsd, native_pocket_vina_rmsd,\n",
    "                    predicted_pocket_geaux_rmsd, predicted_pocket_vina_rmsd],\n",
    "                   axis=0)"
   ]
  },
  {
   "cell_type": "code",
   "execution_count": 21,
   "metadata": {
    "collapsed": false
   },
   "outputs": [
    {
     "data": {
      "text/plain": [
       "(740, 3)"
      ]
     },
     "execution_count": 21,
     "metadata": {},
     "output_type": "execute_result"
    }
   ],
   "source": [
    "hued_df.shape"
   ]
  },
  {
   "cell_type": "code",
   "execution_count": 22,
   "metadata": {
    "collapsed": false
   },
   "outputs": [
    {
     "data": {
      "text/html": [
       "<div>\n",
       "<table border=\"1\" class=\"dataframe\">\n",
       "  <thead>\n",
       "    <tr style=\"text-align: right;\">\n",
       "      <th></th>\n",
       "      <th>Pocket</th>\n",
       "      <th>Program</th>\n",
       "      <th>rmsd</th>\n",
       "    </tr>\n",
       "  </thead>\n",
       "  <tbody>\n",
       "    <tr>\n",
       "      <th>10gsA00</th>\n",
       "      <td>Experimental</td>\n",
       "      <td>GeauxDock</td>\n",
       "      <td>0.3429</td>\n",
       "    </tr>\n",
       "    <tr>\n",
       "      <th>1a30A00</th>\n",
       "      <td>Experimental</td>\n",
       "      <td>GeauxDock</td>\n",
       "      <td>5.3969</td>\n",
       "    </tr>\n",
       "    <tr>\n",
       "      <th>1bcuH00</th>\n",
       "      <td>Experimental</td>\n",
       "      <td>GeauxDock</td>\n",
       "      <td>4.8245</td>\n",
       "    </tr>\n",
       "    <tr>\n",
       "      <th>1e66A01</th>\n",
       "      <td>Experimental</td>\n",
       "      <td>GeauxDock</td>\n",
       "      <td>5.1086</td>\n",
       "    </tr>\n",
       "    <tr>\n",
       "      <th>1f8bA00</th>\n",
       "      <td>Experimental</td>\n",
       "      <td>GeauxDock</td>\n",
       "      <td>0.1382</td>\n",
       "    </tr>\n",
       "  </tbody>\n",
       "</table>\n",
       "</div>"
      ],
      "text/plain": [
       "               Pocket    Program    rmsd\n",
       "10gsA00  Experimental  GeauxDock  0.3429\n",
       "1a30A00  Experimental  GeauxDock  5.3969\n",
       "1bcuH00  Experimental  GeauxDock  4.8245\n",
       "1e66A01  Experimental  GeauxDock  5.1086\n",
       "1f8bA00  Experimental  GeauxDock  0.1382"
      ]
     },
     "execution_count": 22,
     "metadata": {},
     "output_type": "execute_result"
    }
   ],
   "source": [
    "hued_df.head()"
   ]
  },
  {
   "cell_type": "code",
   "execution_count": 23,
   "metadata": {
    "collapsed": false
   },
   "outputs": [],
   "source": [
    "df = pd.concat([geaux_df, vina_df], axis=1)\n",
    "df.columns = ['GeauxDock(Native)', 'GeauxDock(Pred)', 'Vina(Native)', 'Vina(Pred)']"
   ]
  },
  {
   "cell_type": "code",
   "execution_count": 24,
   "metadata": {
    "collapsed": false
   },
   "outputs": [
    {
     "data": {
      "text/html": [
       "<div>\n",
       "<table border=\"1\" class=\"dataframe\">\n",
       "  <thead>\n",
       "    <tr style=\"text-align: right;\">\n",
       "      <th></th>\n",
       "      <th>GeauxDock(Native)</th>\n",
       "      <th>GeauxDock(Pred)</th>\n",
       "      <th>Vina(Native)</th>\n",
       "      <th>Vina(Pred)</th>\n",
       "    </tr>\n",
       "  </thead>\n",
       "  <tbody>\n",
       "    <tr>\n",
       "      <th>count</th>\n",
       "      <td>185.000000</td>\n",
       "      <td>185.000000</td>\n",
       "      <td>185.000000</td>\n",
       "      <td>185.000000</td>\n",
       "    </tr>\n",
       "    <tr>\n",
       "      <th>mean</th>\n",
       "      <td>2.584851</td>\n",
       "      <td>4.454688</td>\n",
       "      <td>2.928834</td>\n",
       "      <td>4.288701</td>\n",
       "    </tr>\n",
       "    <tr>\n",
       "      <th>std</th>\n",
       "      <td>2.496060</td>\n",
       "      <td>2.839403</td>\n",
       "      <td>2.542183</td>\n",
       "      <td>2.811065</td>\n",
       "    </tr>\n",
       "    <tr>\n",
       "      <th>min</th>\n",
       "      <td>0.056300</td>\n",
       "      <td>0.133529</td>\n",
       "      <td>0.270436</td>\n",
       "      <td>0.169694</td>\n",
       "    </tr>\n",
       "    <tr>\n",
       "      <th>25%</th>\n",
       "      <td>0.442100</td>\n",
       "      <td>2.422354</td>\n",
       "      <td>0.947880</td>\n",
       "      <td>2.034707</td>\n",
       "    </tr>\n",
       "    <tr>\n",
       "      <th>50%</th>\n",
       "      <td>1.983800</td>\n",
       "      <td>3.848627</td>\n",
       "      <td>1.977336</td>\n",
       "      <td>4.024962</td>\n",
       "    </tr>\n",
       "    <tr>\n",
       "      <th>75%</th>\n",
       "      <td>4.169200</td>\n",
       "      <td>6.081075</td>\n",
       "      <td>4.425672</td>\n",
       "      <td>6.380297</td>\n",
       "    </tr>\n",
       "    <tr>\n",
       "      <th>max</th>\n",
       "      <td>14.291000</td>\n",
       "      <td>17.414335</td>\n",
       "      <td>13.167786</td>\n",
       "      <td>13.961276</td>\n",
       "    </tr>\n",
       "  </tbody>\n",
       "</table>\n",
       "</div>"
      ],
      "text/plain": [
       "       GeauxDock(Native)  GeauxDock(Pred)  Vina(Native)  Vina(Pred)\n",
       "count         185.000000       185.000000    185.000000  185.000000\n",
       "mean            2.584851         4.454688      2.928834    4.288701\n",
       "std             2.496060         2.839403      2.542183    2.811065\n",
       "min             0.056300         0.133529      0.270436    0.169694\n",
       "25%             0.442100         2.422354      0.947880    2.034707\n",
       "50%             1.983800         3.848627      1.977336    4.024962\n",
       "75%             4.169200         6.081075      4.425672    6.380297\n",
       "max            14.291000        17.414335     13.167786   13.961276"
      ]
     },
     "execution_count": 24,
     "metadata": {},
     "output_type": "execute_result"
    }
   ],
   "source": [
    "df.describe()"
   ]
  },
  {
   "cell_type": "code",
   "execution_count": 25,
   "metadata": {
    "collapsed": true
   },
   "outputs": [],
   "source": [
    "df.to_csv(\"../dat/benchmark.csv\")"
   ]
  },
  {
   "cell_type": "code",
   "execution_count": 26,
   "metadata": {
    "collapsed": false
   },
   "outputs": [
    {
     "data": {
      "text/html": [
       "<div>\n",
       "<table border=\"1\" class=\"dataframe\">\n",
       "  <thead>\n",
       "    <tr style=\"text-align: right;\">\n",
       "      <th></th>\n",
       "      <th>GeauxDock(Native)</th>\n",
       "      <th>GeauxDock(Pred)</th>\n",
       "      <th>Vina(Native)</th>\n",
       "      <th>Vina(Pred)</th>\n",
       "    </tr>\n",
       "  </thead>\n",
       "  <tbody>\n",
       "    <tr>\n",
       "      <th>10gsA00</th>\n",
       "      <td>0.3429</td>\n",
       "      <td>2.818350</td>\n",
       "      <td>7.493246</td>\n",
       "      <td>7.515153</td>\n",
       "    </tr>\n",
       "    <tr>\n",
       "      <th>1a30A00</th>\n",
       "      <td>5.3969</td>\n",
       "      <td>5.856387</td>\n",
       "      <td>4.340904</td>\n",
       "      <td>4.556522</td>\n",
       "    </tr>\n",
       "    <tr>\n",
       "      <th>1bcuH00</th>\n",
       "      <td>4.8245</td>\n",
       "      <td>3.244480</td>\n",
       "      <td>2.636271</td>\n",
       "      <td>2.653116</td>\n",
       "    </tr>\n",
       "    <tr>\n",
       "      <th>1e66A01</th>\n",
       "      <td>5.1086</td>\n",
       "      <td>7.049827</td>\n",
       "      <td>0.925487</td>\n",
       "      <td>5.721366</td>\n",
       "    </tr>\n",
       "    <tr>\n",
       "      <th>1f8bA00</th>\n",
       "      <td>0.1382</td>\n",
       "      <td>0.137759</td>\n",
       "      <td>1.277627</td>\n",
       "      <td>4.744234</td>\n",
       "    </tr>\n",
       "  </tbody>\n",
       "</table>\n",
       "</div>"
      ],
      "text/plain": [
       "         GeauxDock(Native)  GeauxDock(Pred)  Vina(Native)  Vina(Pred)\n",
       "10gsA00             0.3429         2.818350      7.493246    7.515153\n",
       "1a30A00             5.3969         5.856387      4.340904    4.556522\n",
       "1bcuH00             4.8245         3.244480      2.636271    2.653116\n",
       "1e66A01             5.1086         7.049827      0.925487    5.721366\n",
       "1f8bA00             0.1382         0.137759      1.277627    4.744234"
      ]
     },
     "execution_count": 26,
     "metadata": {},
     "output_type": "execute_result"
    }
   ],
   "source": [
    "df.head()"
   ]
  },
  {
   "cell_type": "code",
   "execution_count": 27,
   "metadata": {
    "collapsed": false
   },
   "outputs": [],
   "source": [
    "df['complex'] = df.index.values"
   ]
  },
  {
   "cell_type": "code",
   "execution_count": 28,
   "metadata": {
    "collapsed": false
   },
   "outputs": [
    {
     "data": {
      "text/plain": [
       "<matplotlib.text.Text at 0x11476e090>"
      ]
     },
     "execution_count": 28,
     "metadata": {},
     "output_type": "execute_result"
    },
    {
     "data": {
      "image/png": "[encoded data removed]",
      "text/plain": [
       "<matplotlib.figure.Figure at 0x114728990>"
      ]
     },
     "metadata": {},
     "output_type": "display_data"
    }
   ],
   "source": [
    "plt.figure()\n",
    "sns.boxplot(data=hued_df, hue=\"Program\", x='Pocket', y='rmsd', notch=True, linewidth=0.4)\n",
    "plt.xlabel(\"Binding pocket\")\n",
    "plt.ylabel(\"RMSD[$\\AA$]\")"
   ]
  }
 ],
 "metadata": {
  "kernelspec": {
   "display_name": "Python 2",
   "language": "python",
   "name": "python2"
  },
  "language_info": {
   "codemirror_mode": {
    "name": "ipython",
    "version": 2
   },
   "file_extension": ".py",
   "mimetype": "text/x-python",
   "name": "python",
   "nbconvert_exporter": "python",
   "pygments_lexer": "ipython2",
   "version": "2.7.11"
  }
 },
 "nbformat": 4,
 "nbformat_minor": 0
}
